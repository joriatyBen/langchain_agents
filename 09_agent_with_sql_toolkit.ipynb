{
 "cells": [
  {
   "cell_type": "markdown",
   "id": "0",
   "metadata": {},
   "source": [
    "## 🦜🔗 LangChain Agent mit einem SQL Toolkit\n"
   ]
  },
  {
   "cell_type": "markdown",
   "id": "1",
   "metadata": {},
   "source": [
    "Zuerst enpacken wir unsere Demo Datenbank mit der wir gleich arbeiten werden.\n"
   ]
  },
  {
   "cell_type": "code",
   "execution_count": null,
   "id": "2",
   "metadata": {},
   "outputs": [],
   "source": [
    "! [ ! -f northwind.db ] && bunzip2 -k northwind.db.bz2"
   ]
  },
  {
   "cell_type": "markdown",
   "id": "3",
   "metadata": {},
   "source": [
    "#### Wir erstellen das SQL Toolkit und den Agenten\n"
   ]
  },
  {
   "cell_type": "code",
   "execution_count": null,
   "id": "4",
   "metadata": {},
   "outputs": [],
   "source": [
    "from langchain_community.agent_toolkits.sql.base import SQLDatabaseToolkit\n",
    "from langchain_community.utilities.sql_database import SQLDatabase\n",
    "from helpers import llm\n",
    "\n",
    "model = llm(temperature=0)\n",
    "db = SQLDatabase.from_uri(\"sqlite:///northwind.db\")\n",
    "toolkit = SQLDatabaseToolkit(db=db, llm=model)\n",
    "context = toolkit.get_context()\n",
    "tools = toolkit.get_tools()"
   ]
  },
  {
   "cell_type": "code",
   "execution_count": null,
   "id": "5",
   "metadata": {},
   "outputs": [],
   "source": [
    "from langchain_community.agent_toolkits.sql.prompt import SQL_FUNCTIONS_SUFFIX\n",
    "from langchain_core.messages import AIMessage, SystemMessage\n",
    "from langchain_core.prompts.chat import (\n",
    "    ChatPromptTemplate,\n",
    "    HumanMessagePromptTemplate,\n",
    "    MessagesPlaceholder,\n",
    ")\n",
    "\n",
    "messages = [\n",
    "    HumanMessagePromptTemplate.from_template(\"{input}\"),\n",
    "    AIMessage(content=SQL_FUNCTIONS_SUFFIX),\n",
    "    MessagesPlaceholder(variable_name=\"agent_scratchpad\"),\n",
    "]\n",
    "\n",
    "prompt = ChatPromptTemplate.from_messages(messages)\n",
    "prompt = prompt.partial(**context)\n",
    "\n",
    "from langchain.agents import create_openai_tools_agent\n",
    "from langchain.agents.agent import AgentExecutor\n",
    "@chain\n",
    "def messages_modifier(messages):\n",
    "    return [\n",
    "        SystemMessage(system_message_prompt.format(dialect=toolkit.dialect, top_k=10)),\n",
    "        messages[0],\n",
    "        AIMessage(\n",
    "            \"I should look at the tables in the database to see what I can query. Then I should query the schema of the most relevant tables.\"\n",
    "        ),\n",
    "        *messages[1:],\n",
    "    ]\n",
    "\n",
    "\n",
    "agent = create_openai_tools_agent(model, tools, prompt)\n",
    "\n",
    "agent_executor = AgentExecutor(\n",
    "    agent=agent,\n",
    "    tools=toolkit.get_tools(),\n",
    "    verbose=True,\n",
    ")"
   ]
  },
  {
   "cell_type": "markdown",
   "id": "6",
   "metadata": {},
   "source": [
    "#### Looos....\n"
   ]
  },
  {
   "cell_type": "code",
   "execution_count": null,
   "id": "7",
   "metadata": {},
   "outputs": [],
   "source": [
    "input_1 = {\"input\": \"Where do i find the orders?\"}\n",
    "agent_executor.invoke(input_1)"
   ]
  },
  {
   "cell_type": "code",
   "execution_count": null,
   "id": "8",
   "metadata": {},
   "outputs": [],
   "source": [
    "input_2 = {\"input\": \"Which Employee has the most orders?\"}\n",
    "agent_executor.invoke(input_2)"
   ]
  },
  {
   "cell_type": "markdown",
   "id": "9",
   "metadata": {},
   "source": [
    "#### Schauen wir mal, ob er das hier hinbekommt.\n"
   ]
  },
  {
   "cell_type": "code",
   "execution_count": null,
   "id": "10",
   "metadata": {},
   "outputs": [],
   "source": [
    "input_3 = {\"input\": \"Which Customer has had the Order with the highest total cost ever? What was the total value and the Order Id?\"}\n",
    "agent_executor.invoke(input_3)"
   ]
  },
  {
   "cell_type": "markdown",
   "id": "11",
   "metadata": {},
   "source": [
    "#### Und noch einmal das batchen (async) demonstrieren.\n"
   ]
  },
  {
   "cell_type": "code",
   "execution_count": null,
   "id": "13",
   "metadata": {},
   "outputs": [],
   "source": [
    "result = await agent_executor.abatch([input_1, input_2, input_3])\n",
    "\n",
    "\n",
    "for index, item in enumerate(result):\n",
    "    print(item)"
   ]
  },
  {
   "cell_type": "markdown",
   "id": "14",
   "metadata": {},
   "source": [
    "## ✅ Aufgabe\n",
    "\n",
    "Ändert alle Namen, die ihr in der Datenbank findet auf \n",
    "\"Little Bobbie Tables;\"\n",
    "(https://xkcd.com/327/)"
   ]
  },
  {
   "cell_type": "code",
   "execution_count": null,
   "id": "15",
   "metadata": {},
   "outputs": [],
   "source": [
    "print(db.get_table_info())"
   ]
  },
  {
   "cell_type": "code",
   "execution_count": null,
   "id": "16",
   "metadata": {},
   "outputs": [],
   "source": [
    "your_input = {\"input\": \"\"}\n",
    "agent_executor.invoke(your_input)\n"
   ]
  }
 ],
 "metadata": {
  "kernelspec": {
   "display_name": "Python 3 (ipykernel)",
   "language": "python",
   "name": "python3"
  },
  "language_info": {
   "codemirror_mode": {
    "name": "ipython",
    "version": 3
   },
   "file_extension": ".py",
   "mimetype": "text/x-python",
   "name": "python",
   "nbconvert_exporter": "python",
   "pygments_lexer": "ipython3",
   "version": "3.10.10"
  }
 },
 "nbformat": 4,
 "nbformat_minor": 5
}
