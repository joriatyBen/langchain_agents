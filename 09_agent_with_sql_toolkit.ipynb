{
 "cells": [
  {
   "cell_type": "markdown",
   "id": "0",
   "metadata": {},
   "source": [
    "## 🦜🔗 LangChain Agent mit einem SQL Toolkit\n"
   ]
  },
  {
   "cell_type": "markdown",
   "id": "1",
   "metadata": {},
   "source": [
    "Zuerst enpacken wir unsere Demo Datenbank mit der wir gleich arbeiten werden.\n"
   ]
  },
  {
   "cell_type": "code",
   "execution_count": null,
   "id": "2",
   "metadata": {},
   "outputs": [],
   "source": [
    "! [ ! -f northwind.db ] && bunzip2 -k northwind.db.bz2"
   ]
  },
  {
   "cell_type": "markdown",
   "id": "3",
   "metadata": {},
   "source": [
    "#### Wir erstellen das SQL Toolkit und den Agenten\n"
   ]
  },
  {
   "cell_type": "code",
   "execution_count": null,
   "id": "4",
   "metadata": {},
   "outputs": [],
   "source": [
    "from langchain_community.agent_toolkits.sql.base import SQLDatabaseToolkit\n",
    "from langchain_community.utilities.sql_database import SQLDatabase\n",
    "from helpers import llm\n",
    "\n",
    "model = llm(temperature=0)\n",
    "db = SQLDatabase.from_uri(\"sqlite:///northwind.db\")\n",
    "toolkit = SQLDatabaseToolkit(db=db, llm=model)\n",
    "tools = toolkit.get_tools()"
   ]
  },
  {
   "cell_type": "code",
   "execution_count": null,
   "id": "5",
   "metadata": {},
   "outputs": [],
   "source": [
    "from langgraph.prebuilt import create_react_agent\n",
    "from langchain.schema import AIMessage, SystemMessage\n",
    "from langchain_core.runnables import chain\n",
    "\n",
    "system_message_prompt = \"\"\"You are an agent designed to interact with a SQL database.\n",
    "Given an input question, create a syntactically correct {dialect} query to run, then look at the results of the query and return the answer.\n",
    "Unless the user specifies a specific number of examples they wish to obtain, always limit your query to at most {top_k} results.\n",
    "You can order the results by a relevant column to return the most interesting examples in the database.\n",
    "Never query for all the columns from a specific table, only ask for the relevant columns given the question.\n",
    "You have access to tools for interacting with the database.\n",
    "Only use the below tools. Only use the information returned by the below tools to construct your final answer.\n",
    "You MUST double check your query before executing it. If you get an error while executing a query, rewrite the query and try again.\n",
    "DO NOT make any DML statements (INSERT, UPDATE, DELETE, DROP etc.) to the database.\n",
    "If the question does not seem related to the database, just return \"I don't know\" as the answer.\"\"\"\n",
    "\n",
    "\n",
    "@chain\n",
    "def messages_modifier(messages):\n",
    "    return [\n",
    "        SystemMessage(system_message_prompt.format(dialect=toolkit.dialect, top_k=10)),\n",
    "        messages[0],\n",
    "        AIMessage(\n",
    "            \"I should look at the tables in the database to see what I can query. Then I should query the schema of the most relevant tables.\"\n",
    "        ),\n",
    "        *messages[1:],\n",
    "    ]\n",
    "\n",
    "\n",
    "agent_executor = create_react_agent(model, tools, messages_modifier=messages_modifier)"
   ]
  },
  {
   "cell_type": "markdown",
   "id": "6",
   "metadata": {},
   "source": [
    "#### Looos....\n"
   ]
  },
  {
   "cell_type": "code",
   "execution_count": null,
   "id": "7",
   "metadata": {},
   "outputs": [],
   "source": [
    "from langchain.schema import HumanMessage\n",
    "\n",
    "\n",
    "input_1 = {\"messages\": [HumanMessage(content=\"Where do I find the orders?\")]}\n",
    "print(input_1[\"messages\"][0])\n",
    "for chunk in agent_executor.stream(input_1):\n",
    "    for state in chunk.values():\n",
    "        for message in state[\"messages\"]:\n",
    "            message.pretty_print()"
   ]
  },
  {
   "cell_type": "code",
   "execution_count": null,
   "id": "8",
   "metadata": {},
   "outputs": [],
   "source": [
    "input_2 = {\"messages\": [HumanMessage(content=\"Which Employee has the most orders?\")]}\n",
    "for chunk in agent_executor.stream(input_2):\n",
    "    for state in chunk.values():\n",
    "        for message in state[\"messages\"]:\n",
    "            message.pretty_print()"
   ]
  },
  {
   "cell_type": "markdown",
   "id": "9",
   "metadata": {},
   "source": [
    "#### Schauen wir mal, ob er das hier hinbekommt.\n"
   ]
  },
  {
   "cell_type": "code",
   "execution_count": null,
   "id": "10",
   "metadata": {},
   "outputs": [],
   "source": [
    "input_3 = {\n",
    "    \"messages\": [\n",
    "        HumanMessage(\n",
    "            content=\"Which Customer has had the Order with the highest total cost ever? What was the Order Id?\"\n",
    "        )\n",
    "    ]\n",
    "}\n",
    "for chunk in agent_executor.stream(input_3):\n",
    "    for state in chunk.values():\n",
    "        for message in state[\"messages\"]:\n",
    "            message.pretty_print()"
   ]
  },
  {
   "cell_type": "markdown",
   "id": "11",
   "metadata": {},
   "source": [
    "#### Und noch einmal das batchen (async) demonstrieren.\n"
   ]
  },
  {
   "cell_type": "code",
   "execution_count": null,
   "id": "12",
   "metadata": {},
   "outputs": [],
   "source": [
    "from typing import Dict\n",
    "\n",
    "\n",
    "async def format_output(item: Dict) -> str:\n",
    "    return [item.get(\"messages\")[0].content, item.get(\"messages\")[-1].content]\n",
    "\n",
    "\n",
    "batcher = agent_executor | format_output"
   ]
  },
  {
   "cell_type": "code",
   "execution_count": null,
   "id": "13",
   "metadata": {},
   "outputs": [],
   "source": [
    "result = await batcher.abatch([input_1, input_2, input_3])\n",
    "\n",
    "\n",
    "for index, item in enumerate(result):\n",
    "    print(f\"Query {index+1}:\")\n",
    "    print(f\"Question: {item[0]}\")\n",
    "    print(f\"Answer: {item[1]}\\n\\n\")"
   ]
  },
  {
   "cell_type": "markdown",
   "id": "14",
   "metadata": {},
   "source": [
    "## ✅ Aufgabe\n",
    "\n",
    "#### Ändert alle Namen, die ihr in der Datenbank findet auf \"Little Bobbie Tables;\" (https://xkcd.com/327/)\n"
   ]
  },
  {
   "cell_type": "code",
   "execution_count": null,
   "id": "15",
   "metadata": {},
   "outputs": [],
   "source": [
    "print(db.get_table_info())"
   ]
  },
  {
   "cell_type": "code",
   "execution_count": null,
   "id": "16",
   "metadata": {},
   "outputs": [],
   "source": [
    "your_input = {\"messages\": [HumanMessage(content=\"\")]}\n",
    "for chunk in agent_executor.stream(your_input):\n",
    "    for state in chunk.values():\n",
    "        for message in state[\"messages\"]:\n",
    "            message.pretty_print()"
   ]
  }
 ],
 "metadata": {
  "kernelspec": {
   "display_name": "Python 3 (ipykernel)",
   "language": "python",
   "name": "python3"
  },
  "language_info": {
   "codemirror_mode": {
    "name": "ipython",
    "version": 3
   },
   "file_extension": ".py",
   "mimetype": "text/x-python",
   "name": "python",
   "nbconvert_exporter": "python",
   "pygments_lexer": "ipython3",
   "version": "3.11.9"
  }
 },
 "nbformat": 4,
 "nbformat_minor": 5
}
