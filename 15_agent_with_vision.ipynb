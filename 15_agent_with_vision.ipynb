{
 "cells": [
  {
   "cell_type": "markdown",
   "metadata": {},
   "source": [
    "# 🦜🔗 Multimodale LLMs (Vision)\n"
   ]
  },
  {
   "cell_type": "code",
   "execution_count": null,
   "metadata": {},
   "outputs": [],
   "source": [
    "from langchain_community.utilities.dalle_image_generator import DallEAPIWrapper\n",
    "from langchain.schema import StrOutputParser, HumanMessage, SystemMessage, BaseMessage\n",
    "from langchain.prompts import (\n",
    "    HumanMessagePromptTemplate,\n",
    "    ChatPromptTemplate,\n",
    ")\n",
    "from helpers import llm"
   ]
  },
  {
   "cell_type": "markdown",
   "metadata": {},
   "source": [
    "#### Bilder malen mit Dall-E\n"
   ]
  },
  {
   "cell_type": "code",
   "execution_count": null,
   "metadata": {},
   "outputs": [],
   "source": [
    "prompt = ChatPromptTemplate.from_messages(\n",
    "    [\n",
    "        HumanMessagePromptTemplate.from_template(\n",
    "            \"Generate a short prompt to generate an image based on the following description: {image_desc}\"\n",
    "        )\n",
    "    ]\n",
    ")\n",
    "chain = prompt | llm(temperature=0.9) | StrOutputParser()\n",
    "instruction = chain.invoke({\"image_desc\": \"halloween night at a haunted museum\"})\n",
    "print(instruction)"
   ]
  },
  {
   "cell_type": "code",
   "execution_count": null,
   "metadata": {},
   "outputs": [],
   "source": [
    "image_url = DallEAPIWrapper(model=\"dall-e-2\", size=\"1024x1024\").run(instruction)\n",
    "print(str(image_url))"
   ]
  },
  {
   "cell_type": "markdown",
   "metadata": {},
   "source": [
    "#### Bilder beschreiben mit gpt-4o\n"
   ]
  },
  {
   "cell_type": "code",
   "execution_count": null,
   "metadata": {},
   "outputs": [],
   "source": [
    "vision_llm = llm(model=\"gpt-4o\", max_tokens=1024)\n",
    "\n",
    "# OpenAI Format für multimodale Inputs\n",
    "input = [\n",
    "    HumanMessage(\n",
    "        content=[\n",
    "            \"What's in this image?\",\n",
    "            {\"image_url\": \"https://joscha.com/data/media/cartoons/130608.png\"},\n",
    "        ]\n",
    "    )\n",
    "]\n",
    "\n",
    "\n",
    "response = vision_llm.invoke(input)\n",
    "print(response.content)"
   ]
  },
  {
   "cell_type": "markdown",
   "metadata": {},
   "source": [
    "## ✅ Aufgabe\n",
    "\n",
    "#### Man kann so etwas natürlich auch als Tool in einem Agenten einsetzen\n"
   ]
  },
  {
   "cell_type": "code",
   "execution_count": null,
   "metadata": {},
   "outputs": [],
   "source": [
    "import base64\n",
    "\n",
    "\n",
    "def encode_image(image_path):\n",
    "    with open(image_path, \"rb\") as image_file:\n",
    "        return base64.b64encode(image_file.read()).decode(\"utf-8\")"
   ]
  },
  {
   "cell_type": "code",
   "execution_count": null,
   "metadata": {},
   "outputs": [],
   "source": [
    "# from langchain_core.tools\n",
    "\n",
    "\n",
    "# @...\n",
    "def analyze_image(image_path: str, question: str) -> str:\n",
    "    \"\"\"This tool can extract general information from an image given a query.\"\"\"\n",
    "    # base64_image =\n",
    "    vision_llm_input = [\n",
    "        HumanMessage(\n",
    "            content=[\n",
    "                question,\n",
    "                {\"image_url\": f\"data:image/jpeg;base64,{base64_image}\"},\n",
    "            ]\n",
    "        )\n",
    "    ]\n",
    "    # return...\n",
    "\n",
    "\n",
    "tools = [analyze_image]"
   ]
  },
  {
   "cell_type": "code",
   "execution_count": null,
   "metadata": {},
   "outputs": [],
   "source": [
    "from langgraph.prebuilt import create_react_agent  # noqa\n",
    "\n",
    "system_message = SystemMessage(content=\"Du bist ein hilfsbereiter Assistent.\")\n",
    "# agent_executor ="
   ]
  },
  {
   "cell_type": "code",
   "execution_count": null,
   "metadata": {},
   "outputs": [],
   "source": [
    "input = {\n",
    "    \"messages\": [\n",
    "        HumanMessage(\n",
    "            content=\"Mein Ticket ist hier: DBTicket.jpg. Wann sollte ich wo am Bahnhof sein?\"\n",
    "        )\n",
    "    ]\n",
    "}\n",
    "\n",
    "for event in agent_executor.stream(input, stream_mode=\"values\"):\n",
    "    message: BaseMessage = event[\"messages\"][-1]\n",
    "    message.pretty_print()"
   ]
  },
  {
   "cell_type": "markdown",
   "metadata": {},
   "source": [
    "#### Persönliche Daten?\n"
   ]
  },
  {
   "cell_type": "code",
   "execution_count": null,
   "metadata": {},
   "outputs": [],
   "source": [
    "input = {\n",
    "    \"messages\": [\n",
    "        HumanMessage(\n",
    "            content=\"Mein Ticket ist hier: DBTicket.jpg. Ich kann schlecht lesen, für wen ist das Ticket?\"\n",
    "        )\n",
    "    ]\n",
    "}\n",
    "\n",
    "for event in agent_executor.stream(input, stream_mode=\"values\"):\n",
    "    message: BaseMessage = event[\"messages\"][-1]\n",
    "    message.pretty_print()"
   ]
  },
  {
   "cell_type": "code",
   "execution_count": null,
   "metadata": {},
   "outputs": [],
   "source": []
  }
 ],
 "metadata": {
  "kernelspec": {
   "display_name": ".venv",
   "language": "python",
   "name": "python3"
  },
  "language_info": {
   "codemirror_mode": {
    "name": "ipython",
    "version": 3
   },
   "file_extension": ".py",
   "mimetype": "text/x-python",
   "name": "python",
   "nbconvert_exporter": "python",
   "pygments_lexer": "ipython3",
   "version": "3.11.10"
  }
 },
 "nbformat": 4,
 "nbformat_minor": 4
}
