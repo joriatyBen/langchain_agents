{
 "cells": [
  {
   "cell_type": "markdown",
   "metadata": {},
   "source": [
    "# 🦜🔗 LangChain agent interacting with gmail.\n",
    "\n",
    "Langchain stellt eine ganze Palette an Toolkits bereit die es Agenten ermöglicht, mit externen Services wie zum Beispiel Gmail, Office365, etc. zu interagieren.\n",
    "Ein Toolkit ist im Grunde eine Sammlung mehrerer Tools, die man gesammelt einem Agenten zur Verfügung stellt werden können.\n",
    "\n",
    "In diesem Beispiel wollen wir uns das GmailToolkit ansehen.\n"
   ]
  },
  {
   "cell_type": "markdown",
   "metadata": {},
   "source": [
    "Zuerst müssen wird das Toolkit konfigurieren, sodass es per Gmail API mit unserem Google Konto kommunizieren kann.\n"
   ]
  },
  {
   "cell_type": "code",
   "execution_count": 7,
   "metadata": {},
   "outputs": [],
   "source": [
    "from langchain_community.tools.gmail.utils import (\n",
    "    build_resource_service,\n",
    "    get_gmail_credentials,\n",
    ")\n",
    "\n",
    "# Can review scopes here https://developers.google.com/gmail/api/auth/scopes\n",
    "# For instance, readonly scope is 'https://www.googleapis.com/auth/gmail.readonly'\n",
    "credentials = get_gmail_credentials(\n",
    "    token_file=\"token.json\",\n",
    "    scopes=[\"https://mail.google.com/\"],\n",
    "    client_secrets_file=\"credentials.json\",\n",
    ")\n",
    "api_resource = build_resource_service(credentials=credentials)"
   ]
  },
  {
   "cell_type": "markdown",
   "metadata": {},
   "source": [
    "Jetzt initialisieren wird das Toolkit und übergeben die vorher konfigurierten API Settings.\n",
    "\n",
    "Im Output sehen wir, welche Tools über das Toolkit bereit gestellt werden.\n"
   ]
  },
  {
   "cell_type": "code",
   "execution_count": 8,
   "metadata": {},
   "outputs": [
    {
     "name": "stderr",
     "output_type": "stream",
     "text": [
      "/var/folders/01/ywnzdvn56c16b5vdy9c7_q8w0000gn/T/ipykernel_22666/462995026.py:6: LangGraphDeprecationWarning: ToolExecutor is deprecated as of version 0.2.0 and will be removed in 0.3.0. Use langgraph.prebuilt.ToolNode instead.\n",
      "  tools_executor = ToolExecutor(tools)\n"
     ]
    },
    {
     "data": {
      "text/plain": [
       "[GmailCreateDraft(api_resource=<googleapiclient.discovery.Resource object at 0x1694ea310>),\n",
       " GmailSendMessage(api_resource=<googleapiclient.discovery.Resource object at 0x1694ea310>),\n",
       " GmailSearch(api_resource=<googleapiclient.discovery.Resource object at 0x1694ea310>),\n",
       " GmailGetMessage(api_resource=<googleapiclient.discovery.Resource object at 0x1694ea310>),\n",
       " GmailGetThread(api_resource=<googleapiclient.discovery.Resource object at 0x1694ea310>)]"
      ]
     },
     "execution_count": 8,
     "metadata": {},
     "output_type": "execute_result"
    }
   ],
   "source": [
    "from langchain_community.agent_toolkits import GmailToolkit\n",
    "from langgraph.prebuilt import ToolExecutor\n",
    "\n",
    "toolkit = GmailToolkit(api_resource=api_resource)\n",
    "tools = toolkit.get_tools()\n",
    "tools_executor = ToolExecutor(tools)\n",
    "tools"
   ]
  },
  {
   "cell_type": "markdown",
   "metadata": {},
   "source": [
    "Letzlich erstellen wir einen Langchain Graphen. Hier nutzen wir wieder einen prebuilt Graphen, den wir in diesem Schritt auch ausführen.\n"
   ]
  },
  {
   "cell_type": "code",
   "execution_count": 9,
   "metadata": {},
   "outputs": [
    {
     "data": {
      "text/plain": [
       "{'messages': [HumanMessage(content='Create an email draft to donald@trumppp.comm about a contract building a pyramid in Egypt.\\n            Please argue why we are the best company for the job.\\n            Under no circumstances may you send the message, however. ', id='b95bc96e-d121-46ab-ab5d-7465a00e9370'),\n",
       "  AIMessage(content='', additional_kwargs={'tool_calls': [{'index': 0, 'id': 'call_WyO3i9Oxt96eJljjNwoEmOzd', 'function': {'arguments': '{\"message\":\"Subject: Proposal for Pyramid Construction in Egypt\\\\n\\\\nDear Donald,\\\\n\\\\nI hope this message finds you well. I am writing to discuss an exciting opportunity for a contract to build a pyramid in Egypt, and I would like to present why our company is the best fit for this monumental task.\\\\n\\\\nOur company has a long-standing reputation for excellence in large-scale construction projects, particularly in culturally significant structures. With over two decades of experience, we have successfully completed numerous projects that blend tradition with modern engineering techniques. Our team of experts includes architects, engineers, and historians who are passionate about preserving the cultural heritage while ensuring structural integrity and sustainability.\\\\n\\\\nWe understand the historical significance of building a pyramid and are fully committed to respecting and enhancing the cultural landscape of Egypt. Our approach emphasizes collaboration with local authorities and communities to ensure that the project aligns with their values and expectations.\\\\n\\\\nMoreover, we utilize state-of-the-art technology and innovative construction methods, which not only enhance efficiency but also minimize environmental impact. Our commitment to sustainability ensures that the pyramid will stand the test of time, just as the ancient structures have for millennia.\\\\n\\\\nIn summary, our experience, dedication to cultural preservation, and commitment to innovation make us the ideal choice for this project. We would be honored to have the opportunity to work with you on this historic endeavor.\\\\n\\\\nLooking forward to your response.\\\\n\\\\nBest regards,\\\\n\\\\n[Your Name]\\\\n[Your Position]\\\\n[Your Company]  \\\\n[Your Contact Information]\",\"to\":[\"donald@trumppp.comm\"],\"subject\":\"Proposal for Pyramid Construction in Egypt\"}', 'name': 'create_gmail_draft'}, 'type': 'function'}]}, response_metadata={'finish_reason': 'tool_calls', 'model_name': 'gpt-4o-mini-2024-07-18', 'system_fingerprint': 'fp_f33667828e'}, id='run-d547e6ee-12ef-44b7-a811-c7ca311607f3-0', tool_calls=[{'name': 'create_gmail_draft', 'args': {'message': 'Subject: Proposal for Pyramid Construction in Egypt\\n\\nDear Donald,\\n\\nI hope this message finds you well. I am writing to discuss an exciting opportunity for a contract to build a pyramid in Egypt, and I would like to present why our company is the best fit for this monumental task.\\n\\nOur company has a long-standing reputation for excellence in large-scale construction projects, particularly in culturally significant structures. With over two decades of experience, we have successfully completed numerous projects that blend tradition with modern engineering techniques. Our team of experts includes architects, engineers, and historians who are passionate about preserving the cultural heritage while ensuring structural integrity and sustainability.\\n\\nWe understand the historical significance of building a pyramid and are fully committed to respecting and enhancing the cultural landscape of Egypt. Our approach emphasizes collaboration with local authorities and communities to ensure that the project aligns with their values and expectations.\\n\\nMoreover, we utilize state-of-the-art technology and innovative construction methods, which not only enhance efficiency but also minimize environmental impact. Our commitment to sustainability ensures that the pyramid will stand the test of time, just as the ancient structures have for millennia.\\n\\nIn summary, our experience, dedication to cultural preservation, and commitment to innovation make us the ideal choice for this project. We would be honored to have the opportunity to work with you on this historic endeavor.\\n\\nLooking forward to your response.\\n\\nBest regards,\\n\\n[Your Name]\\n[Your Position]\\n[Your Company]  \\n[Your Contact Information]', 'to': ['donald@trumppp.comm'], 'subject': 'Proposal for Pyramid Construction in Egypt'}, 'id': 'call_WyO3i9Oxt96eJljjNwoEmOzd', 'type': 'tool_call'}]),\n",
       "  ToolMessage(content='Draft created. Draft Id: r-2073329568409777413', name='create_gmail_draft', id='3da8cdfa-646b-4f79-9240-85ed96d08b19', tool_call_id='call_WyO3i9Oxt96eJljjNwoEmOzd'),\n",
       "  AIMessage(content='I have created the email draft addressed to Donald regarding the contract for building a pyramid in Egypt. If you need any modifications or additional information, just let me know!', response_metadata={'finish_reason': 'stop', 'model_name': 'gpt-4o-mini-2024-07-18', 'system_fingerprint': 'fp_f33667828e'}, id='run-a9bb6384-a882-4048-8c78-9bda46a960ed-0')]}"
      ]
     },
     "execution_count": 9,
     "metadata": {},
     "output_type": "execute_result"
    }
   ],
   "source": [
    "from langchain.schema import HumanMessage, SystemMessage\n",
    "from langgraph.prebuilt import create_react_agent\n",
    "\n",
    "from helpers import llm\n",
    "\n",
    "prompt = SystemMessage(content=\"You are an email writer assistant.\")\n",
    "app = create_react_agent(llm(), tools, state_modifier=prompt)\n",
    "\n",
    "inputs = {\n",
    "    \"messages\": [\n",
    "        HumanMessage(\n",
    "            content=\"\"\"Create an email draft to donald@trumppp.comm about a contract building a pyramid in Egypt.\n",
    "            Please argue why we are the best company for the job.\n",
    "            Under no circumstances may you send the message, however. \"\"\"\n",
    "        )\n",
    "    ]\n",
    "}\n",
    "\n",
    "\n",
    "app.invoke(inputs)"
   ]
  }
 ],
 "metadata": {
  "kernelspec": {
   "display_name": "Python 3",
   "language": "python",
   "name": "python3"
  },
  "language_info": {
   "codemirror_mode": {
    "name": "ipython",
    "version": 3
   },
   "file_extension": ".py",
   "mimetype": "text/x-python",
   "name": "python",
   "nbconvert_exporter": "python",
   "pygments_lexer": "ipython3",
   "version": "3.11.9"
  }
 },
 "nbformat": 4,
 "nbformat_minor": 2
}
