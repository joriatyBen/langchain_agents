{
 "cells": [
  {
   "cell_type": "markdown",
   "metadata": {},
   "source": [
    "# 🦜🔗 LangChain agent interacting with gmail.\n",
    "\n",
    "Langchain stellt eine ganze Palette an Toolkits bereit die es Agenten ermöglicht, mit externen Services wie zum Beispiel Gmail, Office365, etc. zu interagieren.\n",
    "Ein Toolkit ist im Grunde eine Sammlung mehrerer Tools, die man gesammelt einem Agenten zur Verfügung stellt werden können.\n",
    "\n",
    "In diesem Beispiel wollen wir uns das GmailToolkit ansehen.\n"
   ]
  },
  {
   "cell_type": "markdown",
   "metadata": {},
   "source": [
    "Zuerst müssen wird das Toolkit konfigurieren, sodass es per Gmail API mit unserem Google Konto kommunizieren kann.\n"
   ]
  },
  {
   "cell_type": "code",
   "execution_count": null,
   "metadata": {},
   "outputs": [],
   "source": [
    "from langchain_community.tools.gmail.utils import (\n",
    "    build_resource_service,\n",
    "    get_gmail_credentials,\n",
    ")\n",
    "\n",
    "# Can review scopes here https://developers.google.com/gmail/api/auth/scopes\n",
    "# For instance, readonly scope is 'https://www.googleapis.com/auth/gmail.readonly'\n",
    "credentials = get_gmail_credentials(\n",
    "    token_file=\"token.json\",\n",
    "    scopes=[\"https://mail.google.com/\"],\n",
    "    client_secrets_file=\"credentials.json\",\n",
    ")\n",
    "api_resource = build_resource_service(credentials=credentials)"
   ]
  },
  {
   "cell_type": "markdown",
   "metadata": {},
   "source": [
    "Jetzt initialisieren wird das Toolkit und übergeben die vorher konfigurierten API Settings.\n",
    "\n",
    "Im Output sehen wir, welche Tools über das Toolkit bereit gestellt werden.\n"
   ]
  },
  {
   "cell_type": "code",
   "execution_count": null,
   "metadata": {},
   "outputs": [],
   "source": [
    "from langchain_community.agent_toolkits import GmailToolkit\n",
    "from langgraph.prebuilt import ToolExecutor\n",
    "\n",
    "toolkit = GmailToolkit(api_resource=api_resource)\n",
    "tools = toolkit.get_tools()\n",
    "tools_executor = ToolExecutor(tools)\n",
    "tools"
   ]
  },
  {
   "cell_type": "markdown",
   "metadata": {},
   "source": [
    "Letzlich erstellen wir einen Langchain Graphen. Hier nutzen wir wieder einen prebuilt Graphen, den wir in diesem Schritt auch ausführen.\n"
   ]
  },
  {
   "cell_type": "code",
   "execution_count": null,
   "metadata": {},
   "outputs": [],
   "source": [
    "from langchain.schema import HumanMessage, SystemMessage\n",
    "from langgraph.prebuilt import create_react_agent\n",
    "\n",
    "from helpers import llm\n",
    "\n",
    "prompt = SystemMessage(content=\"You are an email writer assistant.\")\n",
    "app = create_react_agent(llm(), tools, state_modifier=prompt)\n",
    "\n",
    "inputs = {\n",
    "    \"messages\": [\n",
    "        HumanMessage(\n",
    "            content=\"\"\"Create an email draft to donald@trumppp.comm about a contract building a pyramid in Egypt.\n",
    "            Please argue why we are the best company for the job.\n",
    "            Under no circumstances may you send the message, however. \"\"\"\n",
    "        )\n",
    "    ]\n",
    "}\n",
    "\n",
    "\n",
    "app.invoke(inputs)"
   ]
  }
 ],
 "metadata": {
  "kernelspec": {
   "display_name": ".venv",
   "language": "python",
   "name": "python3"
  },
  "language_info": {
   "codemirror_mode": {
    "name": "ipython",
    "version": 3
   },
   "file_extension": ".py",
   "mimetype": "text/x-python",
   "name": "python",
   "nbconvert_exporter": "python",
   "pygments_lexer": "ipython3",
   "version": "3.11.10"
  }
 },
 "nbformat": 4,
 "nbformat_minor": 2
}
