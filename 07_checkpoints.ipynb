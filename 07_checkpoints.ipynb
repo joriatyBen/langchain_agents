{
 "cells": [
  {
   "cell_type": "markdown",
   "id": "0",
   "metadata": {},
   "source": [
    "## 🦜🔗 Langgraph Agenten, die vor Toolbenutzung nachfragen und Checkpoints\n"
   ]
  },
  {
   "cell_type": "markdown",
   "id": "1",
   "metadata": {},
   "source": [
    "Manchmal möchte man, dass ein Agent etwas tun darf, aber nur nach Rückfrage. Typisch Anwendungsfälle sind z.B. Email-Versand oder der Zugriff auf das Betriebssystem.\n",
    "\n",
    "In diesem Notebook wollen wir zwei Möglichkeiten untersuchen, dies zu tun.\n",
    "\n",
    "- Naiver Ansatz. Wir bauen ein Terminalprompt ein. Und zwar im Codefluss genau vor der Stelle, wo die Anwendung kritische Berechtigungen braucht.\n",
    "- Lösung mit LangGraph-Checkpoints. Dieser Teil ist z.T. sehr detailreich. Man muss sich wirklich nicht alles davon merken.\n",
    "\n",
    "### Lösung 1. Mit einem Terminalprompt\n"
   ]
  },
  {
   "cell_type": "code",
   "execution_count": null,
   "id": "2",
   "metadata": {},
   "outputs": [],
   "source": [
    "from langchain import hub\n",
    "from langgraph.prebuilt.tool_executor import ToolExecutor\n",
    "from langchain.agents import create_tool_calling_agent\n",
    "from langchain.tools.shell import ShellTool\n",
    "from helpers import llm\n",
    "\n",
    "tools = [ShellTool()]\n",
    "prompt = hub.pull(\"reactagent/openai-functions-agent\")\n",
    "agent_runnable = create_tool_calling_agent(llm(temperature=0), tools, prompt)\n",
    "tool_executor = ToolExecutor(tools)"
   ]
  },
  {
   "cell_type": "code",
   "execution_count": null,
   "id": "3",
   "metadata": {},
   "outputs": [],
   "source": [
    "from typing import TypedDict, Annotated, Union\n",
    "from langchain_core.agents import AgentActionMessageLog, AgentFinish\n",
    "import operator\n",
    "\n",
    "\n",
    "class AgentState(TypedDict):\n",
    "    input: str\n",
    "    agent_outcome: Union[AgentActionMessageLog, AgentFinish, None]\n",
    "    intermediate_steps: Annotated[list[tuple[AgentActionMessageLog, str]], operator.add]"
   ]
  },
  {
   "cell_type": "markdown",
   "id": "51b930b2",
   "metadata": {},
   "source": [
    "Wenn das Tool \"terminal\" aufgerufen wird, soll es jeweils mit einer Nutzerabfrage bestätigt werden."
   ]
  },
  {
   "cell_type": "code",
   "execution_count": null,
   "id": "4",
   "metadata": {},
   "outputs": [],
   "source": [
    "def run_agent(data):\n",
    "    agent_outcome = agent_runnable.invoke(data)\n",
    "    return {\"agent_outcome\": agent_outcome}\n",
    "\n",
    "\n",
    "def execute_tools(data):\n",
    "    agent_actions: AgentActionMessageLog = data[\"agent_outcome\"]\n",
    "    outputs = []\n",
    "    for agent_action in agent_actions:\n",
    "        if agent_action.tool == \"terminal\":\n",
    "            response = input(\n",
    "                prompt=f\"[y/n] continue with shell execution: {agent_action.tool_input}?\"\n",
    "            )\n",
    "            if response == \"y\":\n",
    "                output = tool_executor.invoke(agent_action)\n",
    "            else:\n",
    "                output = \"Your terminal command was not permitted by the user. Try a different terminal command or return unfinished.\"\n",
    "            outputs.append((agent_action, str(output)))\n",
    "        else: outputs.append((agent_action, tool_executor.invoke(agent_action)))\n",
    "    print(\"outputs\", outputs)\n",
    "    return {\"intermediate_steps\": outputs}\n",
    "\n",
    "\n",
    "def should_continue(data):\n",
    "    if isinstance(data[\"agent_outcome\"], AgentFinish):\n",
    "        return \"end\"\n",
    "    else:\n",
    "        return \"continue\""
   ]
  },
  {
   "cell_type": "code",
   "execution_count": null,
   "id": "5",
   "metadata": {},
   "outputs": [],
   "source": [
    "from langgraph.graph import END, StateGraph\n",
    "\n",
    "workflow = StateGraph(AgentState)\n",
    "\n",
    "workflow.add_node(\"agent\", run_agent)\n",
    "workflow.add_node(\"action\", execute_tools)\n",
    "workflow.set_entry_point(\"agent\")\n",
    "workflow.add_conditional_edges(\n",
    "    \"agent\",\n",
    "    should_continue,\n",
    "    {\n",
    "        \"continue\": \"action\",\n",
    "        \"end\": END,\n",
    "    },\n",
    ")\n",
    "workflow.add_edge(\"action\", \"agent\")\n",
    "\n",
    "chain = workflow.compile()"
   ]
  },
  {
   "cell_type": "markdown",
   "id": "6",
   "metadata": {},
   "source": [
    "#### Wir definieren eine kleine Funktion, die die Ausgabe formatiert.\n",
    "\n",
    "Diese Arbeit muss man üblicherweise selbst tun, weil LangChain ja nicht weiß, welches Format man am Ende braucht.\n"
   ]
  },
  {
   "cell_type": "code",
   "execution_count": null,
   "id": "7",
   "metadata": {},
   "outputs": [],
   "source": [
    "def formatted_output(data):\n",
    "    print('data', data)\n",
    "    int_steps = data.get(\"intermediate_steps\")\n",
    "    for step in int_steps:\n",
    "        print(step)\n",
    "\n",
    "    return data.get(\"agent_outcome\").return_values.get(\"output\")\n",
    "\n",
    "\n",
    "app = chain | formatted_output"
   ]
  },
  {
   "cell_type": "code",
   "execution_count": null,
   "id": "8",
   "metadata": {},
   "outputs": [],
   "source": [
    "inputs = {\n",
    "    \"input\": \"Count the lines of all python notebooks in the current directory. Use simple shell commands.\"\n",
    "}\n",
    "output = app.invoke(inputs)\n",
    "print(f\"Agent result: {output}\")"
   ]
  },
  {
   "cell_type": "markdown",
   "id": "9",
   "metadata": {},
   "source": [
    "Das hat funktioniert\n",
    "\n",
    "Allerdings muss nun unsere App den GraphState und alle Objekte so lange im Memory behalten, bis ein Nutzer endlich die Rückfrage beantwortet. Asynchron ist das ganz schön blöd.\n",
    "\n",
    "## Lösung 2. LangGraph- Checkpoints\n",
    "\n",
    "Checkpoints sind ein essentieller Baustein von Langgraph. Bis jetzt haben wir noch nichts davon mitbekommen. Was tun Checkpoints und wozu brauchen wir die?\n",
    "\n",
    "\n",
    "Weil das Konzept für eine reale App mit realen Nutzern sehr schnell relevant wird, erläutern wir es hier grob.\n",
    "\n",
    "Wenn eine LangGraph-App mit einem Knoten fertig ist und nachschaut, wohin sie jetzt weiterhüpft (zu welchem Knoten), speichert sie erst einmal den State (und noch andere Dinge) in einen Checkpoint. Das passiert alles in einem kleinen Memory-Objekt und muss uns nicht weiter interessieren. Der nächste Knoten liest dann aus dem Checkpoint des letzten Knoten aus und setzt daran an.\n",
    "\n",
    "Wir können diesen Prozess explizit machen, indem wir den Checkpoint nicht in Memory speichern, sondern z.B. in einer Datenbank ablegen. Redis bietet sich hier an, weil Redis ja bekanntlich sehr schnell ist. Wir wollen aber keinen extra Redis-Container, also benutzen wir Sqlite.\n",
    "\n",
    "Was bringt das?\n",
    "\n",
    "Nun kann ein Nutzer eine App, die ihm zu lange braucht, terminieren. Bisher abgelaufene Zwischenstände gehen nicht verloren. Er kann die App dann entweder neu starten oder auf dem letzten Zwischenstand aufsetzen.\n",
    "Man kann der App befehlen, vor einem bestimmten Knoten immer zu terminieren. Der Zwischenstand speichert sich automatisch und der Nutzer muss dann die App erneut dort aufrufen (Das bauen wir jetzt).\n",
    "Man kann verteilte Systeme bauen, in denen Komponenten ihren Arbeitstand untereinander mittels der Datenbank austauschen.\n",
    "Man kann die Checkpoints auch für die gesamte Chathistory eines Chatbots verwenden. Das sollte man mit Bedacht tun, ist aber prinzipiell möglich.\n"
   ]
  },
  {
   "cell_type": "code",
   "execution_count": null,
   "id": "7e142c9e",
   "metadata": {},
   "outputs": [],
   "source": [
    "from typing import List\n",
    "\n",
    "def unsafe_execute_tools(data):\n",
    "    agent_actions: List[AgentActionMessageLog] = data[\"agent_outcome\"][-1]\n",
    "    print('agent_actions', agent_actions)\n",
    "    output = tool_executor.invoke(agent_actions)\n",
    "    print('output1', output)\n",
    "\n",
    "    return {\"intermediate_steps\": [(agent_actions, str(output))]}"
   ]
  },
  {
   "cell_type": "markdown",
   "id": "fd7bdd0f",
   "metadata": {},
   "source": [
    "## Jetzt kompilieren wir erneut\n",
    "\n",
    "Diesmal mit\n",
    "\n",
    "unsafe_execute_tools\n",
    "Checkpointer\n",
    "Interrupt vor der \"action\"-Node"
   ]
  },
  {
   "cell_type": "code",
   "execution_count": null,
   "id": "c86df23f",
   "metadata": {},
   "outputs": [],
   "source": [
    "from langgraph.checkpoint.sqlite import SqliteSaver\n",
    "from IPython.display import Image\n",
    "\n",
    "memory = SqliteSaver.from_conn_string(\":memory:\")\n",
    "\n",
    "workflow = StateGraph(AgentState)\n",
    "\n",
    "workflow.add_node(\"agent\", run_agent)\n",
    "workflow.add_node(\"action\", unsafe_execute_tools)\n",
    "workflow.set_entry_point(\"agent\")\n",
    "workflow.add_conditional_edges(\n",
    "    \"agent\",\n",
    "    should_continue,\n",
    "    {\n",
    "        \"continue\": \"action\",\n",
    "        \"end\": END,\n",
    "    },\n",
    ")\n",
    "workflow.add_edge(\"action\", \"agent\")\n",
    "\n",
    "checkpoint_agent_executor = workflow.compile(\n",
    "    checkpointer=memory, interrupt_before=[\"action\"]\n",
    ")\n",
    "\n",
    "display(Image(checkpoint_agent_executor.get_graph().draw_mermaid_png()))\n"
   ]
  },
  {
   "cell_type": "code",
   "execution_count": null,
   "id": "0a94c060",
   "metadata": {},
   "outputs": [],
   "source": [
    "inputs = {\n",
    "    \"input\": \"Count the lines of all python notebooks in the current directory. Use simple shell commands.\"\n",
    "}\n",
    "config = {\"configurable\": {\"thread_id\": \"2\"}}\n",
    "for event in checkpoint_agent_executor.stream(inputs, config):\n",
    "    for k, v in event.items():\n",
    "        if k != \"__end__\":\n",
    "            print(v)"
   ]
  },
  {
   "cell_type": "code",
   "execution_count": null,
   "id": "2804bc67",
   "metadata": {},
   "outputs": [],
   "source": [
    "checkpoints = list(memory.list(config, limit=2))\n",
    "print(checkpoints)\n"
   ]
  },
  {
   "cell_type": "code",
   "execution_count": null,
   "id": "eada628a",
   "metadata": {},
   "outputs": [],
   "source": [
    "from helpers import is_resumeable\n",
    "\n",
    "print(is_resumeable(checkpoint_agent_executor, config))"
   ]
  }
 ],
 "metadata": {
  "kernelspec": {
   "display_name": "Python 3 (ipykernel)",
   "language": "python",
   "name": "python3"
  },
  "language_info": {
   "codemirror_mode": {
    "name": "ipython",
    "version": 3
   },
   "file_extension": ".py",
   "mimetype": "text/x-python",
   "name": "python",
   "nbconvert_exporter": "python",
   "pygments_lexer": "ipython3",
   "version": "3.10.14"
  }
 },
 "nbformat": 4,
 "nbformat_minor": 5
}
