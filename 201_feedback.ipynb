{
 "cells": [
  {
   "cell_type": "markdown",
   "metadata": {},
   "source": [
    "## Feedback sammeln\n",
    "\n",
    "Durch das markieren mit traceable lassen sich Langsmith Parameter übergeben. Hier im Beispiel eine RunId."
   ]
  },
  {
   "cell_type": "code",
   "execution_count": 9,
   "metadata": {},
   "outputs": [],
   "source": [
    "import uuid\n",
    "from langsmith import traceable\n",
    "from langchain_openai import ChatOpenAI\n",
    "\n",
    "\n",
    "@traceable\n",
    "def llm(question):\n",
    "    llm = ChatOpenAI()\n",
    "    return llm.invoke(question)\n",
    "\n",
    "\n",
    "run_id = str(uuid.uuid4())\n",
    "answer = llm(\"hi\", langsmith_extra={\"run_id\": run_id})"
   ]
  },
  {
   "cell_type": "markdown",
   "metadata": {},
   "source": [
    "Anhand der RunID kann Nutzerfeedback gesammelt werden."
   ]
  },
  {
   "cell_type": "code",
   "execution_count": 10,
   "metadata": {},
   "outputs": [
    {
     "data": {
      "text/plain": [
       "Feedback(id=UUID('bc34c73f-db04-4219-828c-467e51beb76b'), created_at=datetime.datetime(2024, 9, 6, 13, 7, 46, 828202, tzinfo=datetime.timezone.utc), modified_at=datetime.datetime(2024, 9, 6, 13, 7, 46, 828209, tzinfo=datetime.timezone.utc), run_id=UUID('8ff463f7-f404-466b-98e7-becabc2f85d8'), key='user-score', score=1.0, value=None, comment='I like it, very polite', correction=None, feedback_source=FeedbackSourceBase(type='api', metadata={}), session_id=None, comparative_experiment_id=None, feedback_group_id=None)"
      ]
     },
     "execution_count": 10,
     "metadata": {},
     "output_type": "execute_result"
    }
   ],
   "source": [
    "from langsmith import Client\n",
    "\n",
    "ls_client = Client()\n",
    "\n",
    "ls_client.create_feedback(\n",
    "    run_id,\n",
    "    key=\"user-score\",\n",
    "    comment=\"I like it, very polite\",\n",
    "    score=1.0,\n",
    ")"
   ]
  }
 ],
 "metadata": {
  "kernelspec": {
   "display_name": ".venv",
   "language": "python",
   "name": "python3"
  },
  "language_info": {
   "codemirror_mode": {
    "name": "ipython",
    "version": 3
   },
   "file_extension": ".py",
   "mimetype": "text/x-python",
   "name": "python",
   "nbconvert_exporter": "python",
   "pygments_lexer": "ipython3",
   "version": "3.11.9"
  }
 },
 "nbformat": 4,
 "nbformat_minor": 2
}
