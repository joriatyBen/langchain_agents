{
 "cells": [
  {
   "cell_type": "markdown",
   "metadata": {},
   "source": [
    "## Feedback sammeln\n",
    "\n",
    "Durch das markieren mit traceable lassen sich Langsmith Parameter übergeben. Hier im Beispiel eine RunId."
   ]
  },
  {
   "cell_type": "code",
   "execution_count": null,
   "metadata": {},
   "outputs": [],
   "source": [
    "import uuid\n",
    "from langsmith import traceable\n",
    "from langchain_openai import ChatOpenAI\n",
    "from dotenv import load_dotenv\n",
    "load_dotenv()\n",
    "\n",
    "\n",
    "\n",
    "@traceable\n",
    "def llm(question):\n",
    "    llm = ChatOpenAI()\n",
    "    return llm.invoke(question)\n",
    "\n",
    "\n",
    "run_id = str(uuid.uuid4())\n",
    "answer = llm(\"hi\", langsmith_extra={\"run_id\": run_id})"
   ]
  },
  {
   "cell_type": "markdown",
   "metadata": {},
   "source": [
    "Anhand der RunID kann Nutzerfeedback gesammelt werden."
   ]
  },
  {
   "cell_type": "code",
   "execution_count": null,
   "metadata": {},
   "outputs": [],
   "source": [
    "from langsmith import Client\n",
    "\n",
    "ls_client = Client()\n",
    "\n",
    "ls_client.create_feedback(\n",
    "    run_id,\n",
    "    key=\"user-score\",\n",
    "    comment=\"I like it, very polite\",\n",
    "    score=1.0,\n",
    ")"
   ]
  }
 ],
 "metadata": {
  "kernelspec": {
   "display_name": ".venv",
   "language": "python",
   "name": "python3"
  },
  "language_info": {
   "codemirror_mode": {
    "name": "ipython",
    "version": 3
   },
   "file_extension": ".py",
   "mimetype": "text/x-python",
   "name": "python",
   "nbconvert_exporter": "python",
   "pygments_lexer": "ipython3",
   "version": "3.11.9"
  }
 },
 "nbformat": 4,
 "nbformat_minor": 2
}
