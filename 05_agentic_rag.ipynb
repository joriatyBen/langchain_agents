{
 "cells": [
  {
   "cell_type": "markdown",
   "id": "0",
   "metadata": {},
   "source": [
    "## 🦜🔗 LangChain RAG Agent (RAG nur bei Bedarf)\n"
   ]
  },
  {
   "cell_type": "code",
   "execution_count": null,
   "id": "1",
   "metadata": {},
   "outputs": [],
   "source": [
    "from langchain_community.vectorstores.faiss import FAISS\n",
    "from langchain.agents.agent_toolkits import create_retriever_tool\n",
    "from langchain_community.document_loaders import PyPDFLoader\n",
    "from langchain_text_splitters import CharacterTextSplitter\n",
    "from helpers import llm"
   ]
  },
  {
   "cell_type": "markdown",
   "id": "2",
   "metadata": {},
   "source": [
    "### In diesem Notebook schauen wir uns an, wie RAG als Tool funktioniert.\n",
    "\n",
    "Es wird also nicht einfach auf gut Glück bei jeder Anfrage das RAG angeworfen und Dokumente mit in die Prompt gehängt. Das entscheidet unser Agent nun alleine.\n"
   ]
  },
  {
   "cell_type": "markdown",
   "id": "3",
   "metadata": {},
   "source": [
    "#### Wir erstellen eine kleine in-memory FAISS Datenbank.\n"
   ]
  },
  {
   "cell_type": "code",
   "execution_count": null,
   "id": "4",
   "metadata": {},
   "outputs": [],
   "source": [
    "from langchain_openai import OpenAIEmbeddings\n",
    "\n",
    "\n",
    "embeddings = OpenAIEmbeddings(model=\"text-embedding-3-large\")\n",
    "loader = PyPDFLoader(\"LangChain.pdf\")\n",
    "documents = loader.load()\n",
    "text_splitter = CharacterTextSplitter(chunk_size=80, chunk_overlap=30)\n",
    "docs = text_splitter.split_documents(documents)\n",
    "db = FAISS.from_documents(docs, embeddings)"
   ]
  },
  {
   "cell_type": "markdown",
   "id": "5",
   "metadata": {},
   "source": [
    "#### Wir benutzen LangChain-Magie um aus der Vektor-Datenbank ein Tool zu machen, das der Agent benutzen kann\n",
    "\n",
    "Die Beschreibung \"This is the best place to look for any information about LangChain.\" ist essentiell für die Funktionalität der gesamten App. Damit weiß das LLM, dass es genau dieses Tool aufrufen muss, wenn es Informationen zu LangChain braucht.\n"
   ]
  },
  {
   "cell_type": "code",
   "execution_count": null,
   "id": "6",
   "metadata": {},
   "outputs": [],
   "source": [
    "retriever = db.as_retriever()\n",
    "tool = create_retriever_tool(\n",
    "    retriever,\n",
    "    \"search_langchain_documentation\",\n",
    "    \"This is the best place to look for any information about LangChain.\",\n",
    ")\n",
    "tools = [tool]"
   ]
  },
  {
   "cell_type": "markdown",
   "id": "7",
   "metadata": {},
   "source": [
    "#### Wir bauen den Agenten mit Hilfe von LangGraph prebuilt und geben ihm das Tool.\n",
    "\n",
    "Das Prompt ziehen wir vom Hub. Es ist nicht sonderlich relevant.\n"
   ]
  },
  {
   "cell_type": "code",
   "execution_count": null,
   "id": "8",
   "metadata": {},
   "outputs": [],
   "source": [
    "from langgraph.prebuilt import create_react_agent\n",
    "from langchain_core.messages import SystemMessage, HumanMessage, BaseMessage\n",
    "\n",
    "system_message = SystemMessage(content=\"Du bist ein hilfsbereiter Assistent.\")\n",
    "agent_executor = create_react_agent(llm(), tools, state_modifier=system_message)"
   ]
  },
  {
   "cell_type": "code",
   "execution_count": null,
   "id": "9",
   "metadata": {},
   "outputs": [],
   "source": [
    "input = {\n",
    "    \"messages\": [HumanMessage(content=\"Wie nutze ich Langchain mit einem Vectorstore?\")]\n",
    "}"
   ]
  },
  {
   "cell_type": "code",
   "execution_count": null,
   "id": "10",
   "metadata": {},
   "outputs": [],
   "source": [
    "for event in agent_executor.stream(input, stream_mode=\"values\"):\n",
    "    message: BaseMessage = event[\"messages\"][-1]\n",
    "    message.pretty_print()"
   ]
  },
  {
   "cell_type": "markdown",
   "id": "11",
   "metadata": {},
   "source": [
    "#### Echtes Streaming\n"
   ]
  },
  {
   "cell_type": "code",
   "execution_count": null,
   "id": "12",
   "metadata": {},
   "outputs": [],
   "source": [
    "from helpers import graph_agent_llm_output_streamer_events\n",
    "\n",
    "await graph_agent_llm_output_streamer_events(agent_executor, input)"
   ]
  },
  {
   "cell_type": "markdown",
   "id": "13",
   "metadata": {},
   "source": [
    "## ✅ Aufgabe\n",
    "\n",
    "In der Datei \"LLMAll_de-DE.md\" findet sich die deutsche Version der OWASP Top 10 für LLMs.\n",
    "Erweitere den Agent so, dass er hier für Sicherheitsfragen nachschaut.\n"
   ]
  },
  {
   "cell_type": "code",
   "execution_count": null,
   "id": "14",
   "metadata": {},
   "outputs": [],
   "source": [
    "from langchain_community.document_loaders import UnstructuredMarkdownLoader\n",
    "\n",
    "secloader = UnstructuredMarkdownLoader(\n",
    "    \"LLMAll_de-DE.md\",\n",
    "    mode=\"elements\",\n",
    "    strategy=\"fast\",\n",
    ")\n",
    "\n",
    "# Load, split and index the documents\n",
    "# and create a tool named \"sectool\" based on the retriever\n",
    "\n",
    "tools = [sectool, tool]\n",
    "\n",
    "system_message = SystemMessage(content=\"Du bist ein hilfsbereiter Assistent.\")\n",
    "agent_executor = create_react_agent(llm(), tools, system_message)\n",
    "\n",
    "input = {\"messages\": [HumanMessage(content=\"Warum sind Prompt Injections gefährlich?\")]}\n",
    "\n",
    "\n",
    "await graph_agent_llm_output_streamer_events(agent_executor, input)"
   ]
  }
 ],
 "metadata": {
  "kernelspec": {
   "display_name": "Python 3 (ipykernel)",
   "language": "python",
   "name": "python3"
  },
  "language_info": {
   "codemirror_mode": {
    "name": "ipython",
    "version": 3
   },
   "file_extension": ".py",
   "mimetype": "text/x-python",
   "name": "python",
   "nbconvert_exporter": "python",
   "pygments_lexer": "ipython3",
   "version": "3.11.9"
  }
 },
 "nbformat": 4,
 "nbformat_minor": 5
}
