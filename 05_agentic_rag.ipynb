{
 "cells": [
  {
   "cell_type": "markdown",
   "id": "0",
   "metadata": {},
   "source": [
    "## 🦜🔗 LangChain RAG Agent (RAG nur bei Bedarf)\n"
   ]
  },
  {
   "cell_type": "code",
   "execution_count": null,
   "id": "1",
   "metadata": {},
   "outputs": [],
   "source": [
    "from langchain_community.vectorstores.faiss import FAISS\n",
    "from langchain.agents.agent_toolkits import create_retriever_tool\n",
    "from langchain_community.document_loaders import PyPDFLoader\n",
    "from langchain_text_splitters import CharacterTextSplitter\n",
    "from helpers import llm, embeddings"
   ]
  },
  {
   "cell_type": "markdown",
   "id": "2",
   "metadata": {},
   "source": [
    "### In diesem Notebook schauen wir uns an, wie RAG als Tool funktioniert.\n",
    "\n",
    "Es wird also nicht einfach auf gut Glück bei jeder Anfrage das RAG angeworfen und Dokumente mit in die Prompt gehängt. Das entscheidet unser Agent nun alleine.\n"
   ]
  },
  {
   "cell_type": "markdown",
   "id": "3",
   "metadata": {},
   "source": [
    "#### Wir erstellen eine kleine in-memory FAISS Datenbank.\n"
   ]
  },
  {
   "cell_type": "code",
   "execution_count": null,
   "id": "4",
   "metadata": {},
   "outputs": [],
   "source": [
    "loader = PyPDFLoader(\"LangChain.pdf\")\n",
    "documents = loader.load()\n",
    "text_splitter = CharacterTextSplitter(chunk_size=1000, chunk_overlap=30)\n",
    "docs = text_splitter.split_documents(documents)\n",
    "db = FAISS.from_documents(docs, embeddings())"
   ]
  },
  {
   "cell_type": "markdown",
   "id": "5",
   "metadata": {},
   "source": [
    "#### Wir benutzen LangChain-Magie um aus der Vektor-Datenbank ein Tool zu machen, das der Agent benutzen kann\n",
    "\n",
    "Die Beschreibung \"This is the best place to look for any information about LangChain.\" ist essentiell für die Funktionalität der gesamten App. Damit weiß das LLM, dass es genau dieses Tool aufrufen muss, wenn es Informationen zu LangChain braucht.\n"
   ]
  },
  {
   "cell_type": "code",
   "execution_count": null,
   "id": "6",
   "metadata": {},
   "outputs": [],
   "source": [
    "retriever = db.as_retriever()\n",
    "tool = create_retriever_tool(\n",
    "    retriever,\n",
    "    \"search_langchain_documentation\",\n",
    "    \"This is the best place to look for any information about LangChain.\",\n",
    ")\n",
    "tools = [tool]"
   ]
  },
  {
   "cell_type": "markdown",
   "id": "7",
   "metadata": {},
   "source": [
    "#### Wir bauen den Agenten mit Hilfe von LangGraph prebuilt und geben ihm das Tool.\n",
    "\n",
    "Das Prompt ziehen wir vom Hub. Es ist nicht sonderlich relevant.\n"
   ]
  },
  {
   "cell_type": "code",
   "execution_count": null,
   "id": "8",
   "metadata": {},
   "outputs": [],
   "source": [
    "from langgraph.prebuilt import create_agent_executor\n",
    "from langchain.agents import create_tool_calling_agent, AgentExecutor\n",
    "from langchain import hub\n",
    "\n",
    "prompt = hub.pull(\"reactagent/rag\")\n",
    "\n",
    "agent_runnable = create_tool_calling_agent(llm(), tools, prompt)\n",
    "\n",
    "agent_executor = AgentExecutor(agent=agent_runnable, tools=tools, verbose=False)\n"
   ]
  },
  {
   "cell_type": "markdown",
   "id": "9",
   "metadata": {},
   "source": [
    "#### Wir definieren eine kleine Funktion, die die Ausgabe formatiert.\n",
    "\n",
    "Diese Arbeit muss man üblicherweise selbst tun, weil LangChain ja nicht weiß, welches Format man am Ende braucht.\n"
   ]
  },
  {
   "cell_type": "code",
   "execution_count": null,
   "id": "10",
   "metadata": {},
   "outputs": [],
   "source": [
    "def formatter(iterator):\n",
    "    for chunk in iterator:\n",
    "        for k, v in chunk.items():\n",
    "            yield f\"{k}: {v}\"\n",
    "\n",
    "\n",
    "chain = agent_executor | formatter"
   ]
  },
  {
   "cell_type": "code",
   "execution_count": null,
   "id": "11",
   "metadata": {},
   "outputs": [],
   "source": [
    "from langchain_core.messages import HumanMessage\n",
    "inputs = {\n",
    "    \"input\": [\n",
    "        HumanMessage(content=\"Wie nutze ich Langchain mit einem Vectorstore?\")\n",
    "    ]\n",
    "}\n",
    "\n",
    "for chunk in chain.stream(inputs):\n",
    "    print(chunk)"
   ]
  },
  {
   "cell_type": "markdown",
   "id": "12",
   "metadata": {},
   "source": [
    "#### Echtes Streaming\n"
   ]
  },
  {
   "cell_type": "code",
   "execution_count": null,
   "id": "13",
   "metadata": {},
   "outputs": [],
   "source": [
    "from helpers import graph_agent_llm_output_streamer_events\n",
    "inputs = {\n",
    "    \"input\": [\n",
    "        HumanMessage(content=\"Wie nutze ich Langcain mit einem Vectorstore?\")\n",
    "    ]\n",
    "}\n",
    "\n",
    "await graph_agent_llm_output_streamer_events(agent_executor, inputs)"
   ]
  },
  {
   "cell_type": "markdown",
   "id": "9ae7d082",
   "metadata": {},
   "source": [
    "## ✅ Aufgabe\n",
    "\n",
    "In der Datei \"LLMAll_de-DE.md\" findet sich die deutsche Version der OWASP Top 10 für LLMs.\n",
    "Erweitere den Agent so, dass er hier für Sicherheitsfragen nachschaut.\n"
   ]
  },
  {
   "cell_type": "code",
   "execution_count": null,
   "id": "4f19a5b3",
   "metadata": {},
   "outputs": [],
   "source": [
    "from langchain_community.document_loaders import UnstructuredMarkdownLoader\n",
    "\n",
    "secloader = UnstructuredMarkdownLoader(\n",
    "    \"LLMAll_de-DE.md\", mode=\"elements\", strategy=\"fast\",\n",
    ")\n",
    "\n",
    "# Load, split and index the documents\n",
    "# and create a tool named \"sectool\" based on the retriever\n",
    "\n",
    "tools = [sectool,tool]\n",
    "agent_runnable = create_tool_calling_agent(llm(), tools, prompt)\n",
    "\n",
    "agent_executor = AgentExecutor(agent=agent_runnable, tools=tools, verbose=True)\n",
    "\n",
    "inputs = {\n",
    "    \"input\": [\n",
    "        HumanMessage(content=\"Warum sind Prompt Injections gefährlich?\")\n",
    "    ]\n",
    "}\n",
    "\n",
    "await graph_agent_llm_output_streamer_events(agent_executor, inputs)"
   ]
  }
 ],
 "metadata": {
  "kernelspec": {
   "display_name": "Python 3 (ipykernel)",
   "language": "python",
   "name": "python3"
  },
  "language_info": {
   "codemirror_mode": {
    "name": "ipython",
    "version": 3
   },
   "file_extension": ".py",
   "mimetype": "text/x-python",
   "name": "python",
   "nbconvert_exporter": "python",
   "pygments_lexer": "ipython3",
   "version": "3.10.14"
  }
 },
 "nbformat": 4,
 "nbformat_minor": 5
}
