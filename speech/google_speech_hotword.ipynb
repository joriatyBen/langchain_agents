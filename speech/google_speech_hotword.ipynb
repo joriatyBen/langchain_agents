{
 "cells": [
  {
   "cell_type": "markdown",
   "metadata": {},
   "source": [
    "Listening to a hot word"
   ]
  },
  {
   "cell_type": "markdown",
   "metadata": {},
   "source": [
    "Setup Porcupine"
   ]
  },
  {
   "cell_type": "code",
   "execution_count": 1,
   "metadata": {},
   "outputs": [],
   "source": [
    "import pvporcupine\n",
    "from pvrecorder import PvRecorder\n",
    "\n",
    "import os\n",
    "from dotenv import load_dotenv\n",
    "\n",
    "# Load environment variables from .env file\n",
    "load_dotenv()\n",
    "\n",
    "# Get the PORCUPINE_KEY from the environment variables\n",
    "porcupine_key = os.getenv(\"PORCUPINE_KEY\")\n",
    "\n",
    "porcupine = pvporcupine.create(\n",
    "    access_key=porcupine_key, keywords=[\"bumblebee\"])"
   ]
  },
  {
   "cell_type": "markdown",
   "metadata": {},
   "source": [
    "Setup Recorder and create wav file"
   ]
  },
  {
   "cell_type": "code",
   "execution_count": 2,
   "metadata": {},
   "outputs": [],
   "source": [
    "import wave\n",
    "\n",
    "\n",
    "recorder = PvRecorder(frame_length=porcupine.frame_length, device_index=-1)\n",
    "recorder.start()\n",
    "\n",
    "\n",
    "output_path = os.path.join(os.getcwd(), \"output.wav\")\n",
    "\n",
    "wav_file = None\n",
    "if output_path is not None:\n",
    "    wav_file = wave.open(output_path, \"w\")\n",
    "    wav_file.setnchannels(1)\n",
    "    wav_file.setsampwidth(2)\n",
    "    wav_file.setframerate(16000)"
   ]
  },
  {
   "cell_type": "markdown",
   "metadata": {},
   "source": [
    "Setup Recording and Porcupine hot word processing"
   ]
  },
  {
   "cell_type": "code",
   "execution_count": 3,
   "metadata": {},
   "outputs": [],
   "source": [
    "from pvrecorder import PvRecorder\n",
    "\n",
    "recorder = PvRecorder(device_index=-1, frame_length=512)\n",
    "recorder.start()\n",
    "\n",
    "pcm = recorder.read()\n",
    "keyword_index = porcupine.process(pcm)\n",
    "if keyword_index == 0:\n",
    "    print(\"detected\")"
   ]
  },
  {
   "cell_type": "markdown",
   "metadata": {},
   "source": [
    "Start recording and listening on hot word"
   ]
  },
  {
   "cell_type": "code",
   "execution_count": 4,
   "metadata": {},
   "outputs": [
    {
     "name": "stdout",
     "output_type": "stream",
     "text": [
      "Bubmlebee detected\n",
      "Stopping ...\n"
     ]
    }
   ],
   "source": [
    "import struct\n",
    "\n",
    "try:\n",
    "    while True:\n",
    "        pcm = recorder.read()\n",
    "        result = porcupine.process(pcm)\n",
    "\n",
    "        if wav_file is not None:\n",
    "            wav_file.writeframes(struct.pack(\"h\" * len(pcm), *pcm))\n",
    "\n",
    "        if result >= 0:\n",
    "            print(\"Bubmlebee detected\")\n",
    "except KeyboardInterrupt:\n",
    "    print(\"Stopping ...\")\n",
    "finally:\n",
    "    recorder.delete()\n",
    "    porcupine.delete()\n",
    "    if wav_file is not None:\n",
    "        wav_file.close()"
   ]
  },
  {
   "cell_type": "code",
   "execution_count": null,
   "metadata": {},
   "outputs": [],
   "source": [
    "import speech_recognition as sr\n",
    "import pyaudio\n",
    "\n",
    "init_rec = sr.Recognizer()\n",
    "print(\"Let's speak!!\")\n",
    "with sr.Microphone() as source:\n",
    "    audio_data = init_rec.record(source, duration=5)\n",
    "    print(\"Recognizing your text.............\")\n",
    "    text = init_rec.recognize_google(audio_data)\n",
    "    print(text)"
   ]
  },
  {
   "cell_type": "markdown",
   "metadata": {},
   "source": [
    "Text to Speech"
   ]
  },
  {
   "cell_type": "markdown",
   "metadata": {},
   "source": [
    "List languages"
   ]
  },
  {
   "cell_type": "code",
   "execution_count": null,
   "metadata": {},
   "outputs": [],
   "source": [
    "from typing import Sequence\n",
    "\n",
    "import google.cloud.texttospeech as tts\n",
    "\n",
    "\n",
    "def unique_languages_from_voices(voices: Sequence[tts.Voice]):\n",
    "    language_set = set()\n",
    "    for voice in voices:\n",
    "        for language_code in voice.language_codes:\n",
    "            language_set.add(language_code)\n",
    "    return language_set\n",
    "\n",
    "\n",
    "def list_languages():\n",
    "    client = tts.TextToSpeechClient()\n",
    "    response = client.list_voices()\n",
    "    languages = unique_languages_from_voices(response.voices)\n",
    "\n",
    "    print(f\" Languages: {len(languages)} \".center(60, \"-\"))\n",
    "    for i, language in enumerate(sorted(languages)):\n",
    "        print(f\"{language:>10}\", end=\"\\n\" if i % 5 == 4 else \"\")\n",
    "\n",
    "list_languages()"
   ]
  },
  {
   "cell_type": "markdown",
   "metadata": {},
   "source": [
    "List voices"
   ]
  },
  {
   "cell_type": "code",
   "execution_count": null,
   "metadata": {},
   "outputs": [],
   "source": [
    "import google.cloud.texttospeech as tts\n",
    "\n",
    "\n",
    "def list_voices(language_code=None):\n",
    "    client = tts.TextToSpeechClient()\n",
    "    response = client.list_voices(language_code=language_code)\n",
    "    voices = sorted(response.voices, key=lambda voice: voice.name)\n",
    "\n",
    "    print(f\" Voices: {len(voices)} \".center(60, \"-\"))\n",
    "    for voice in voices:\n",
    "        languages = \", \".join(voice.language_codes)\n",
    "        name = voice.name\n",
    "        gender = tts.SsmlVoiceGender(voice.ssml_gender).name\n",
    "        rate = voice.natural_sample_rate_hertz\n",
    "        print(f\"{languages:<8} | {name:<24} | {gender:<8} | {rate:,} Hz\")\n",
    "\n",
    "list_voices(\"de\")"
   ]
  },
  {
   "cell_type": "code",
   "execution_count": null,
   "metadata": {},
   "outputs": [],
   "source": [
    "import google.cloud.texttospeech as tts\n",
    "from pydub import AudioSegment\n",
    "from pydub.playback import play\n",
    "\n",
    "\n",
    "def text_to_wav(voice_name: str, text: str):\n",
    "    language_code = \"-\".join(voice_name.split(\"-\")[:2])\n",
    "    text_input = tts.SynthesisInput(text=text)\n",
    "    voice_params = tts.VoiceSelectionParams(\n",
    "        language_code=language_code, name=voice_name\n",
    "    )\n",
    "    audio_config = tts.AudioConfig(audio_encoding=tts.AudioEncoding.LINEAR16)\n",
    "\n",
    "    client = tts.TextToSpeechClient()\n",
    "    response = client.synthesize_speech(\n",
    "        input=text_input,\n",
    "        voice=voice_params,\n",
    "        audio_config=audio_config,\n",
    "    )\n",
    "\n",
    "    filename = f\"{voice_name}.wav\"\n",
    "    with open(filename, \"wb\") as out:\n",
    "        out.write(response.audio_content)\n",
    "        print(f'Generated speech saved to \"{filename}\"')\n",
    "\n",
    "text_to_wav(\"de-DE-Standard-C\", \"Hallo, wie geht es Ihnen? Ich hoffe, es geht Ihnen gut.\")\n",
    "\n",
    "\n",
    "\n",
    "def play_wav(filename: str):\n",
    "    audio = AudioSegment.from_wav(filename)\n",
    "    play(audio)\n",
    "\n",
    "# After generating the audio file\n",
    "text_to_wav(\"de-DE-Standard-C\", \"Hallo, wie geht es Ihnen? Ich hoffe, es geht Ihnen gut.\")\n",
    "play_wav(\"de-DE-Standard-C.wav\")"
   ]
  }
 ],
 "metadata": {
  "kernelspec": {
   "display_name": "venv",
   "language": "python",
   "name": "python3"
  },
  "language_info": {
   "codemirror_mode": {
    "name": "ipython",
    "version": 3
   },
   "file_extension": ".py",
   "mimetype": "text/x-python",
   "name": "python",
   "nbconvert_exporter": "python",
   "pygments_lexer": "ipython3",
   "version": "3.12.3"
  }
 },
 "nbformat": 4,
 "nbformat_minor": 2
}
