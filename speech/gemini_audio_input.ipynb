{
 "cells": [
  {
   "cell_type": "code",
   "execution_count": 21,
   "metadata": {},
   "outputs": [
    {
     "data": {
      "text/plain": [
       "ChatResult(generations=[ChatGeneration(text='Bitte erzähle einen Witz. \\nGerne! Was ist rot und schlecht für die Zähne? \\nEin Backstein. \\n 😄 \\nMöchtest du noch einen Witz hören? \\n', generation_info={'is_blocked': False, 'safety_ratings': [{'category': 'HARM_CATEGORY_HATE_SPEECH', 'probability_label': 'NEGLIGIBLE', 'blocked': False}, {'category': 'HARM_CATEGORY_DANGEROUS_CONTENT', 'probability_label': 'NEGLIGIBLE', 'blocked': False}, {'category': 'HARM_CATEGORY_HARASSMENT', 'probability_label': 'NEGLIGIBLE', 'blocked': False}, {'category': 'HARM_CATEGORY_SEXUALLY_EXPLICIT', 'probability_label': 'NEGLIGIBLE', 'blocked': False}], 'usage_metadata': {'prompt_token_count': 1005, 'candidates_token_count': 43, 'total_token_count': 1048}}, message=AIMessage(content='Bitte erzähle einen Witz. \\nGerne! Was ist rot und schlecht für die Zähne? \\nEin Backstein. \\n 😄 \\nMöchtest du noch einen Witz hören? \\n'))], llm_output=None)"
      ]
     },
     "execution_count": 21,
     "metadata": {},
     "output_type": "execute_result"
    }
   ],
   "source": [
    "from langchain_google_vertexai import ChatVertexAI\n",
    "from langchain_core.messages import HumanMessage\n",
    "from langchain_openai import ChatOpenAI\n",
    "\n",
    "\"\"\" Test for sending wav to GeminiPro1.5\"\"\"\n",
    "\n",
    "gc_model = ChatVertexAI(model=\"gemini-1.5-pro-preview-0409\", temperature=0)\n",
    "# gc_model = ChatOpenAI(model=\"gpt-4o\")\n",
    "\n",
    "\n",
    "def get_audio_bytes(file_path):\n",
    "    with open(file_path, \"rb\") as audio_file:\n",
    "        return audio_file.read()\n",
    "\n",
    "\n",
    "audio_file_path = \"output.wav\"\n",
    "audio_bytes = get_audio_bytes(audio_file_path)\n",
    "\n",
    "content = [\n",
    "    {\n",
    "        \"type\": \"text\",\n",
    "        \"text\": \"Hier folgt eine Frage:\",\n",
    "    },\n",
    "    {\"type\": \"media\", \"mime_type\": \"audio/wav\", \"data\": audio_bytes},\n",
    "]\n",
    "messages = [HumanMessage(content=content)]\n",
    "\n",
    "answer = gc_model._generate_gemini(messages)\n",
    "answer"
   ]
  }
 ],
 "metadata": {
  "kernelspec": {
   "display_name": ".venv",
   "language": "python",
   "name": "python3"
  },
  "language_info": {
   "codemirror_mode": {
    "name": "ipython",
    "version": 3
   },
   "file_extension": ".py",
   "mimetype": "text/x-python",
   "name": "python",
   "nbconvert_exporter": "python",
   "pygments_lexer": "ipython3",
   "version": "3.11.9"
  }
 },
 "nbformat": 4,
 "nbformat_minor": 2
}
